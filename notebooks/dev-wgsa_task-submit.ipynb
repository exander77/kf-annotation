{
 "cells": [
  {
   "cell_type": "code",
   "execution_count": null,
   "metadata": {},
   "outputs": [],
   "source": [
    "import sevenbridges as sbg\n",
    "from sevenbridges.errors import SbgError\n",
    "from sevenbridges.http.error_handlers import rate_limit_sleeper, maintenance_sleeper\n",
    "import sys\n",
    "import re\n",
    "import pdb\n",
    "import concurrent.futures\n",
    "from requests import request\n",
    "config = sbg.Config(profile='turbo')\n",
    "api = sbg.Api(config=config, error_handlers=[rate_limit_sleeper, maintenance_sleeper])\n",
    "project = 'd3b-bixu/dev-wgsa'"
   ]
  },
  {
   "cell_type": "code",
   "execution_count": null,
   "metadata": {},
   "outputs": [],
   "source": [
    "def get_VEP_refs(db_key_list, db_run_bool):\n",
    "    extra_db_dict = {'cadd_indels': 'CADDv1.5-38-InDels.tsv.gz', 'cadd_snvs': 'CADDv1.5-38-whole_genome_SNVs.tsv.gz',\n",
    "                     'dbnsfp': 'dbNSFP4.0a.gz', 'dbscsnv': 'dbscSNV1.1_GRCh38.txt.gz', 'phylop': 'hg38.phyloP100way.bw'}\n",
    "    ref_dict = {}\n",
    "    ref_dict['run_cache_dbs'] = db_run_bool\n",
    "    ref_dict['reference'] = api.files.query(project=project, names=['Homo_sapiens.GRCh38.dna.toplevel.fa.gz'])[0]\n",
    "    ref_dict['cache'] = api.files.query(project=project, names=['homo_sapiens_merged_vep_99_GRCh38.tar.gz'])[0]\n",
    "    ref_dict['tool'] = 'VEP99'\n",
    "    # db_key list has optional databases to run\n",
    "    for key in db_key_list:\n",
    "        ref_dict[key] = api.files.query(project=project, names=[extra_db_dict[key]])[0]\n",
    "    return ref_dict\n",
    "    "
   ]
  },
  {
   "cell_type": "code",
   "execution_count": null,
   "metadata": {},
   "outputs": [],
   "source": [
    "def get_ANNOVAR_refs(db_list, db_run_bool, protocol_name):\n",
    "    ref_dict = {}\n",
    "    ref_dict['run_dbs'] = db_run_bool\n",
    "    ref_dict['reference_name'] = api.files.query(project=project, names=['annovar_2019Oct24.tgz'])[0]\n",
    "    ref_dict['protocol_name'] = protocol_name\n",
    "    # db file name list has optional databases to run\n",
    "    if len(db_list) > 0:\n",
    "        ref_dict['additional_dbs'] = []\n",
    "        for db in db_list:\n",
    "            ref_dict['additional_dbs'].append(api.files.query(project=project, names=[db])[0])\n",
    "    return ref_dict\n"
   ]
  },
  {
   "cell_type": "code",
   "execution_count": null,
   "metadata": {},
   "outputs": [],
   "source": [
    "def get_snpEff_refs(vcf_list, reference_name, gwas_bool, dbnsfp_txt_bool):\n",
    "    ref_dict = {}\n",
    "    ref_dict['reference_name'] = reference_name\n",
    "    ref_dict['ref_tar_gz'] = api.files.query(project=project, names=['snpeff_hg38_grch38.tgz'])[0]\n",
    "    ref_dict['protocol_name'] = protocol_name\n",
    "    # db file name list has optional databases to run\n",
    "    if len(vcf_list) > 0:\n",
    "        ref_dict['db_vcfs'] = []\n",
    "        for vcf in vcf_list:\n",
    "            ref_dict['db_vcfs'].append(api.files.query(project=project, names=[vcf])[0])\n",
    "    if gwas_bool:\n",
    "        ref_dict['gwas_catalog_txt'].append(api.files.query(project=project, names=['gwas_catalog_v1.0-associations_e98_r2020-03-08.tsv'])[0])\n",
    "    if dbnsfp_txt_bool:\n",
    "        ref_dict['dbnsfp_txt'].append(api.files.query(project=project, names=['dbNSFP4.0a.gz'])[0])\n",
    "    return ref_dict\n"
   ]
  }
 ],
 "metadata": {
  "kernelspec": {
   "display_name": "Python 3",
   "language": "python",
   "name": "python3"
  },
  "language_info": {
   "codemirror_mode": {
    "name": "ipython",
    "version": 3
   },
   "file_extension": ".py",
   "mimetype": "text/x-python",
   "name": "python",
   "nbconvert_exporter": "python",
   "pygments_lexer": "ipython3",
   "version": "3.7.3"
  }
 },
 "nbformat": 4,
 "nbformat_minor": 2
}
