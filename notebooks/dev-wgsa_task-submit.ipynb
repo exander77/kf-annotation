{
 "cells": [
  {
   "cell_type": "markdown",
   "metadata": {},
   "source": [
    "# Annotation task submission notebook"
   ]
  },
  {
   "cell_type": "markdown",
   "metadata": {},
   "source": [
    "## Get refs defs"
   ]
  },
  {
   "cell_type": "code",
   "execution_count": 1,
   "metadata": {},
   "outputs": [],
   "source": [
    "import sevenbridges as sbg\n",
    "from sevenbridges.errors import SbgError\n",
    "from sevenbridges.http.error_handlers import rate_limit_sleeper, maintenance_sleeper\n",
    "import sys\n",
    "import re\n",
    "import pdb\n",
    "import concurrent.futures\n",
    "from requests import request\n",
    "config = sbg.Config(profile='turbo')\n",
    "api = sbg.Api(config=config, error_handlers=[rate_limit_sleeper, maintenance_sleeper])\n",
    "project = 'd3b-bixu/dev-wgsa'"
   ]
  },
  {
   "cell_type": "code",
   "execution_count": 3,
   "metadata": {},
   "outputs": [],
   "source": [
    "def get_VEP_refs(db_key_list, db_run_bool):\n",
    "    extra_db_dict = {'cadd_indels': 'CADDv1.5-38-InDels.tsv.gz', 'cadd_snvs': 'CADDv1.5-38-whole_genome_SNVs.tsv.gz',\n",
    "                     'dbnsfp': 'dbNSFP4.0a.gz', 'dbscsnv': 'dbscSNV1.1_GRCh38.txt.gz', 'phylop': 'hg38.phyloP100way.bw'}\n",
    "    ref_dict = {}\n",
    "    ref_dict['run_cache_dbs'] = db_run_bool\n",
    "    ref_dict['reference'] = api.files.query(project=project, names=['Homo_sapiens.GRCh38.dna.toplevel.fa.gz'])[0]\n",
    "    ref_dict['cache'] = api.files.query(project=project, names=['homo_sapiens_merged_vep_99_GRCh38.tar.gz'])[0]\n",
    "    ref_dict['tool'] = 'VEP99'\n",
    "    # db_key list has optional databases to run\n",
    "    for key in db_key_list:\n",
    "        ref_dict[key] = api.files.query(project=project, names=[extra_db_dict[key]])[0]\n",
    "    return ref_dict\n",
    "    "
   ]
  },
  {
   "cell_type": "code",
   "execution_count": 4,
   "metadata": {},
   "outputs": [],
   "source": [
    "def get_ANNOVAR_refs(db_list, db_run_bool, protocol_name):\n",
    "    ref_dict = {}\n",
    "    ref_dict['run_dbs'] = db_run_bool\n",
    "    ref_dict['reference_name'] = api.files.query(project=project, names=['annovar_2019Oct24.tgz'])[0]\n",
    "    ref_dict['protocol_name'] = protocol_name\n",
    "    # db file name list has optional databases to run\n",
    "    if len(db_list) > 0:\n",
    "        ref_dict['additional_dbs'] = []\n",
    "        for db in db_list:\n",
    "            ref_dict['additional_dbs'].append(api.files.query(project=project, names=[db])[0])\n",
    "    return ref_dict\n"
   ]
  },
  {
   "cell_type": "code",
   "execution_count": 34,
   "metadata": {},
   "outputs": [],
   "source": [
    "def get_snpEff_refs(reference_name, tool_name):\n",
    "    ref_dict = {}\n",
    "    ref_dict['reference_name'] = reference_name\n",
    "    ref_dict['ref_tar_gz'] = api.files.query(project=project, names=['snpeff_hg38_grch38.tgz'])[0]\n",
    "    ref_dict['tool_name'] = tool_name\n",
    "    # db file name list has optional databases to run\n",
    "#     if len(vcf_list) > 0:\n",
    "#         ref_dict['db_vcfs'] = []\n",
    "#         for vcf in vcf_list:\n",
    "#             ref_dict['db_vcfs'].append(api.files.query(project=project, names=[vcf])[0])\n",
    "#     if gwas_bool:\n",
    "#         ref_dict['gwas_catalog_txt'].append(api.files.query(project=project, names=['gwas_catalog_v1.0-associations_e98_r2020-03-08.tsv'])[0])\n",
    "#     if dbnsfp_txt_bool:\n",
    "#         ref_dict['dbnsfp_txt'].append(api.files.query(project=project, names=['dbNSFP4.0a.gz'])[0])\n",
    "    return ref_dict\n"
   ]
  },
  {
   "cell_type": "markdown",
   "metadata": {},
   "source": [
    "## Draft task def"
   ]
  },
  {
   "cell_type": "code",
   "execution_count": 6,
   "metadata": {},
   "outputs": [],
   "source": [
    "def draft_task(task_name, input_dict, app_name, project):\n",
    "    task = api.tasks.create(name=task_name, project=project, app=app_name, inputs=input_dict, run=False)\n",
    "    task.inputs['output_basename'] = task.id\n",
    "    task.save()\n"
   ]
  },
  {
   "cell_type": "markdown",
   "metadata": {},
   "source": [
    "## Run task def"
   ]
  },
  {
   "cell_type": "code",
   "execution_count": 18,
   "metadata": {},
   "outputs": [],
   "source": [
    "def run_tasks(project, prefix):\n",
    "    # set prefix to all if you don't need to be selective\n",
    "    draft_tasks = list(api.tasks.query(project=project, status='DRAFT').all())\n",
    "    for i in range(0, len(draft_tasks), 1):\n",
    "        if prefix == 'ALL' or re.search(prefix, draft_tasks[i].name):\n",
    "            draft_tasks[i].run()\n",
    "            print('Running task ' + draft_tasks[i].id + ' ' + draft_tasks[i].name)\n",
    "        else:\n",
    "            print('Task ' + draft_tasks[i].id + ' ' + draft_tasks[i].name + ' skipped, prefix ' + prefix + ' did not match')\n"
   ]
  },
  {
   "cell_type": "markdown",
   "metadata": {},
   "source": [
    "### execute run tasks"
   ]
  },
  {
   "cell_type": "code",
   "execution_count": 40,
   "metadata": {},
   "outputs": [
    {
     "name": "stdout",
     "output_type": "stream",
     "text": [
      "You sure you want to run all tasks with prefix: snpEff NO DB? Type \"YASS\" if so\n",
      "YASS\n",
      "Task c08f6294-92c9-4c1d-982d-7605ebcfd12d kfdrc-snp-eff-wgsa run - 03-04-20 16:44:34 skipped, prefix snpEff NO DB did not match\n",
      "Task 57e2f78d-f9d6-41c4-8a54-41fa928ce245 kfdrc-annovar run - 03-16-20 15:04:13 skipped, prefix snpEff NO DB did not match\n",
      "Task 2bc272c5-e052-4047-9838-5806ee28a71b kfdrc-annovar run - 03-16-20 15:33:49 skipped, prefix snpEff NO DB did not match\n",
      "Task 40510325-3665-4b7d-9d7b-e280fdc02b64 kfdrc-vep99-wgsa run - 03-19-20 14:40:04 skipped, prefix snpEff NO DB did not match\n",
      "Task facbcdec-3b86-4888-b7d7-f1939fa9563f snpsift-annotate run - 03-24-20 18:36:45 skipped, prefix snpEff NO DB did not match\n",
      "Task 4bb11c87-88f1-4169-8a12-33ce3ffcaea5 snpsift-annotate run - 03-24-20 18:39:45 skipped, prefix snpEff NO DB did not match\n",
      "Task 1af51098-05a7-4dbc-b2c8-8a5cd903d120 snpsift-annotate run - 03-24-20 19:58:50 skipped, prefix snpEff NO DB did not match\n",
      "Task 14621595-dbae-4f96-9320-eebc1fd24f1d snp-eff-snpsift-annotate run - 03-24-20 20:02:02 skipped, prefix snpEff NO DB did not match\n",
      "Task 312cbd6c-b28b-4d31-b20b-5e175bf19044 snpeff-annotate run - 03-24-20 20:07:05 skipped, prefix snpEff NO DB did not match\n",
      "Running task 25bb92cc-367b-461e-8cb9-d46f6ec67c4f snpEff NO DB refGene: FM_DFW18WG8\n",
      "Running task 1da1f9bc-6f18-4425-b79d-b2ff0f1faa58 snpEff NO DB refGene: FM_SHJNRP8S\n",
      "Running task cabea3a5-9999-4cab-b902-6bdbb3d90a0e snpEff NO DB refGene: FM_0ADXQA3J\n",
      "Running task 1c9a6e93-cc61-4670-9494-c7b38e2c32c4 snpEff NO DB refGene: FM_0DB3211J\n",
      "Task 8ef3285f-feb5-4494-bece-65d493b381cb snpeff-snpsift run - 03-24-20 20:11:36 skipped, prefix snpEff NO DB did not match\n",
      "Running task 4bdc657e-f534-454e-a93e-3a16ef723b9c snpEff NO DB ensGene: FM_DFW18WG8\n",
      "Running task 2b098085-70a3-4d8f-82ff-97f05ab3b4cb snpEff NO DB ensGene: FM_SHJNRP8S\n",
      "Running task b62da57b-17a5-4faa-baeb-083bf36828ea snpEff NO DB ensGene: FM_0ADXQA3J\n",
      "Running task 0aa60658-4dc0-4cbb-b4d0-283d81a7917f snpEff NO DB ensGene: FM_0DB3211J\n",
      "Running task 6b626f86-c740-40ca-bebb-9e8fbc060508 snpEff NO DB ensGene: FM_ZFMCW3G3\n",
      "Running task 18c8dc70-f880-4770-aa89-d431a7aaa055 snpEff NO DB NO SNP ensGene: FM_0ADXQA3J\n",
      "Running task a4251c9a-c3a9-481a-b5a1-b5bff1208f34 snpEff NO DB NO SNP ensGene: FM_DFW18WG8\n",
      "Running task e958f05c-c909-4587-8155-3db78371d7c9 snpEff NO DB NO SNP ensGene: FM_ZFMCW3G3\n",
      "Running task 228e2de7-3340-4100-95d8-c03fa93e7702 snpEff NO DB NO SNP ensGene: FM_SHJNRP8S\n",
      "Running task 709eda74-12be-4919-8414-34d0a2c3f686 snpEff NO DB NO SNP ensGene: FM_0DB3211J\n",
      "Running task f0d9eb37-df16-4161-a3ca-1426db59aa4c snpEff NO DB NO SNP refGene: FM_0ADXQA3J\n",
      "Running task 2f8f2909-d756-4510-986e-5f0d05103325 snpEff NO DB NO SNP refGene: FM_DFW18WG8\n",
      "Running task 0d25f772-aa5f-46d8-a666-3d9010fd4442 snpEff NO DB NO SNP refGene: FM_ZFMCW3G3\n",
      "Running task ef1115af-f0b3-49a9-9c77-604fbce91cd2 snpEff NO DB NO SNP refGene: FM_SHJNRP8S\n",
      "Running task 6c9f52ac-49c5-4760-bd27-7ca19fd027e8 snpEff NO DB NO SNP refGene: FM_0DB3211J\n"
     ]
    }
   ],
   "source": [
    "prefix = 'snpEff NO DB'\n",
    "print(\"You sure you want to run all tasks with prefix: \" + prefix + \"? Type \\\"YASS\\\" if so\")\n",
    "check = input()\n",
    "if check == \"YASS\":\n",
    "    run_tasks(project, prefix)\n",
    "else:\n",
    "    sys.stderr.write(\"User did not type YASS, skipping\\n\")"
   ]
  },
  {
   "cell_type": "markdown",
   "metadata": {},
   "source": [
    "## Remove old annotation task set up"
   ]
  },
  {
   "cell_type": "code",
   "execution_count": 8,
   "metadata": {},
   "outputs": [],
   "source": [
    "manifest = open('/Users/brownm28/Documents/2020-Mar-4_WGSA/TASK_RUN/original_trio_vcf_test-manifest.csv')\n",
    "head = next(manifest)\n",
    "app = project + '/bcftools-strip-info'\n",
    "strip_info = 'INFO/ANN'\n",
    "tool_name = 'gatk.denovo.trio'\n",
    "for line in manifest:\n",
    "    info = line.split(',')\n",
    "    in_dict = {}\n",
    "    in_dict['input_vcf'] = api.files.get(info[0])\n",
    "    in_dict['tool_name'] = tool_name\n",
    "    in_dict['strip_info'] = strip_info\n",
    "    task_name = \"BCFTOOLS STRIP ANNO: \" + in_dict['input_vcf'].metadata['Kids First Family ID']\n",
    "    draft_task(task_name, in_dict, app, project)\n",
    "    "
   ]
  },
  {
   "cell_type": "markdown",
   "metadata": {},
   "source": [
    "## Copy metadata to outputs"
   ]
  },
  {
   "cell_type": "code",
   "execution_count": 26,
   "metadata": {},
   "outputs": [],
   "source": [
    "def tag_outputs(task, phrase, in_key):\n",
    "    if re.search(phrase, task.name):\n",
    "        sys.stderr.write('Valid task found ' + task.name + '\\n')\n",
    "        metadata = task.inputs[in_key].metadata\n",
    "        for out_key in task.outputs:\n",
    "            try:\n",
    "                if type(task.outputs[out_key]) is not list:\n",
    "                    file_obj = api.files.get(task.outputs[out_key].id)\n",
    "                    for key in metadata:\n",
    "                        file_obj.metadata[key] = metadata[key]\n",
    "                    file_obj.save()\n",
    "                else:\n",
    "                    for output in task.outputs[out_key]:\n",
    "                        file_obj = api.files.get(output.id)\n",
    "                        for key in metadata:\n",
    "                            file_obj.metadata[key] = metadata[key]\n",
    "                        file_obj.save()\n",
    "            except Exception as e:\n",
    "                print(e)\n",
    "                print(\"Skipping \" + task.name + \" due to error\")"
   ]
  },
  {
   "cell_type": "markdown",
   "metadata": {},
   "source": [
    "#### Tag normal tasks"
   ]
  },
  {
   "cell_type": "code",
   "execution_count": 28,
   "metadata": {},
   "outputs": [
    {
     "name": "stdout",
     "output_type": "stream",
     "text": [
      "You sure tag outputs with task prefix: BCFTOOLS STRIP ANNO? Type \"YASS\" if so\n",
      "YASS\n"
     ]
    },
    {
     "name": "stderr",
     "output_type": "stream",
     "text": [
      "Valid task found BCFTOOLS STRIP ANNO: FM_DFW18WG8\n",
      "Valid task found BCFTOOLS STRIP ANNO: FM_0ADXQA3J\n",
      "Valid task found BCFTOOLS STRIP ANNO: FM_0DB3211J\n",
      "Valid task found BCFTOOLS STRIP ANNO: FM_ZFMCW3G3\n",
      "Valid task found BCFTOOLS STRIP ANNO: FM_SHJNRP8S\n"
     ]
    }
   ],
   "source": [
    "prefix = 'BCFTOOLS STRIP ANNO'\n",
    "key = 'input_vcf'\n",
    "print(\"You sure tag outputs with task prefix: \" + prefix + \"? Type \\\"YASS\\\" if so\")\n",
    "check = input()\n",
    "if check == \"YASS\":\n",
    "    tasks = api.tasks.query(project=project, status=\"COMPLETED\").all()\n",
    "    for task in tasks:\n",
    "        tag_outputs(task, prefix, key)\n",
    "else:\n",
    "    sys.stderr.write(\"User did not type YASS, skipping\\n\")"
   ]
  },
  {
   "cell_type": "markdown",
   "metadata": {},
   "source": [
    "#### Tag batch tasks"
   ]
  },
  {
   "cell_type": "code",
   "execution_count": 32,
   "metadata": {},
   "outputs": [
    {
     "name": "stdout",
     "output_type": "stream",
     "text": [
      "You sure tag outputs with task prefix: bcftools-filter-vcf run - RM SNP? Type \"YASS\" if so\n",
      "YASS\n"
     ]
    },
    {
     "name": "stderr",
     "output_type": "stream",
     "text": [
      "Valid task found bcftools-filter-vcf run - RM SNP: file: 63529c06-97ae-4d2b-b328-e773ff99fdc4.gatk.denovo.trio.INFO_stripped.vcf.gz\n",
      "Valid task found bcftools-filter-vcf run - RM SNP: file: 28d7410a-55b7-482b-83b1-598efb639046.gatk.denovo.trio.INFO_stripped.vcf.gz\n",
      "Valid task found bcftools-filter-vcf run - RM SNP: file: 10319470-535e-4426-a720-f583ae3924fb.gatk.denovo.trio.INFO_stripped.vcf.gz\n",
      "Valid task found bcftools-filter-vcf run - RM SNP: file: 6ba066c9-ac41-46d4-a6c4-0518eb5d37cd.gatk.denovo.trio.INFO_stripped.vcf.gz\n",
      "Valid task found bcftools-filter-vcf run - RM SNP: file: c42499db-13ff-4e32-9645-b279502c9604.gatk.denovo.trio.INFO_stripped.vcf.gz\n"
     ]
    }
   ],
   "source": [
    "prefix = 'bcftools-filter-vcf run - RM SNP'\n",
    "key = 'input_vcf'\n",
    "print(\"You sure tag outputs with task prefix: \" + prefix + \"? Type \\\"YASS\\\" if so\")\n",
    "check = input()\n",
    "if check == \"YASS\":\n",
    "    tasks = api.tasks.query(project=project, status=\"COMPLETED\").all()\n",
    "    for task in tasks:\n",
    "        if re.search(prefix, task.name):\n",
    "            for child in task.get_batch_children():\n",
    "                tag_outputs(child, prefix, key)\n",
    "else:\n",
    "    sys.stderr.write(\"User did not type YASS, skipping\\n\")"
   ]
  },
  {
   "cell_type": "markdown",
   "metadata": {},
   "source": [
    "## Annotation runs"
   ]
  },
  {
   "cell_type": "code",
   "execution_count": 33,
   "metadata": {},
   "outputs": [],
   "source": [
    "stripped_vcf_manifest = '/Users/brownm28/Documents/2020-Mar-4_WGSA/TASK_RUN/stripped_vcf-manifest.csv'\n",
    "snp_rm_vcf_manifest = '/Users/brownm28/Documents/2020-Mar-4_WGSA/TASK_RUN/snp_rm-manifest.csv'"
   ]
  },
  {
   "cell_type": "markdown",
   "metadata": {},
   "source": [
    "### Set up snpEff run"
   ]
  },
  {
   "cell_type": "code",
   "execution_count": 39,
   "metadata": {},
   "outputs": [],
   "source": [
    "# check all vars\n",
    "app = project + \"/snpeff-annotate\"\n",
    "manifest = open(snp_rm_vcf_manifest)\n",
    "task_prefix = 'snpEff NO DB NO SNP refGene: '\n",
    "# hg38 or GRCh38.86\n",
    "ref_gene_model = \"hg38\"\n",
    "# run gwas?\n",
    "# gwas_bool = False\n",
    "# run dbnsfp?\n",
    "# dbnsfp_txt_bool = False\n",
    "tool_name = \"gatk.denovo.trio.stripped\"\n",
    "\n",
    "ref_obj = get_snpEff_refs(ref_gene_model, tool_name)\n",
    "head = next(manifest)\n",
    "for line in manifest:\n",
    "    info = line.split(',')\n",
    "    in_dict = {}\n",
    "    for key in ref_obj:\n",
    "        in_dict[key] = ref_obj[key]\n",
    "    in_vcf = api.files.get(info[0])\n",
    "    task_name = task_prefix + in_vcf.metadata['Kids First Family ID']\n",
    "    in_dict['input_vcf'] = in_vcf\n",
    "    draft_task(task_name, in_dict, app, project)\n"
   ]
  },
  {
   "cell_type": "markdown",
   "metadata": {},
   "source": [
    "#### simple utility to expand ipython view in browser"
   ]
  },
  {
   "cell_type": "code",
   "execution_count": 1,
   "metadata": {},
   "outputs": [
    {
     "data": {
      "text/html": [
       "<style>.container { width:75% !important; }</style>"
      ],
      "text/plain": [
       "<IPython.core.display.HTML object>"
      ]
     },
     "metadata": {},
     "output_type": "display_data"
    }
   ],
   "source": [
    "from IPython.core.display import display, HTML\n",
    "display(HTML(\"<style>.container { width:75% !important; }</style>\"))"
   ]
  },
  {
   "cell_type": "code",
   "execution_count": null,
   "metadata": {},
   "outputs": [],
   "source": []
  }
 ],
 "metadata": {
  "kernelspec": {
   "display_name": "Python 3",
   "language": "python",
   "name": "python3"
  },
  "language_info": {
   "codemirror_mode": {
    "name": "ipython",
    "version": 3
   },
   "file_extension": ".py",
   "mimetype": "text/x-python",
   "name": "python",
   "nbconvert_exporter": "python",
   "pygments_lexer": "ipython3",
   "version": "3.7.3"
  }
 },
 "nbformat": 4,
 "nbformat_minor": 2
}
